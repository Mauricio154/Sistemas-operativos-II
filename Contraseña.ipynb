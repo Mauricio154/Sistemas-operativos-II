{
 "cells": [
  {
   "cell_type": "markdown",
   "metadata": {},
   "source": [
    "# Contraseña"
   ]
  },
  {
   "cell_type": "code",
   "execution_count": 1,
   "metadata": {},
   "outputs": [
    {
     "name": "stdout",
     "output_type": "stream",
     "text": [
      "introduce la clave1234\n",
      "acceso no autorizado\n"
     ]
    }
   ],
   "source": [
    "clave=(\"secreto\")\n",
    "entrada= input(\"introduce la clave\")\n",
    "if (entrada == clave):\n",
    "    print (\"acertaste, la clave es'\",entrada,\"\")\n",
    "else:\n",
    "    print (\"acceso no autorizado\")"
   ]
  },
  {
   "cell_type": "code",
   "execution_count": 3,
   "metadata": {},
   "outputs": [
    {
     "name": "stdout",
     "output_type": "stream",
     "text": [
      "introduce la clave secreto\n",
      "acertaste, la clave es  secreto \n"
     ]
    }
   ],
   "source": [
    "clave=(\"secreto\")\n",
    "entrada= input(\"introduce la clave \")\n",
    "if (entrada == clave):\n",
    "    print (\"acertaste, la clave es \",entrada,\"\")\n",
    "else:\n",
    "    print (\"acceso no autorizado\")"
   ]
  },
  {
   "cell_type": "code",
   "execution_count": null,
   "metadata": {
    "collapsed": true
   },
   "outputs": [],
   "source": []
  }
 ],
 "metadata": {
  "kernelspec": {
   "display_name": "Python 3",
   "language": "python",
   "name": "python3"
  },
  "language_info": {
   "codemirror_mode": {
    "name": "ipython",
    "version": 3
   },
   "file_extension": ".py",
   "mimetype": "text/x-python",
   "name": "python",
   "nbconvert_exporter": "python",
   "pygments_lexer": "ipython3",
   "version": "3.6.1"
  }
 },
 "nbformat": 4,
 "nbformat_minor": 2
}
